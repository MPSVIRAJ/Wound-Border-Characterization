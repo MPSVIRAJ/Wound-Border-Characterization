{
 "cells": [
  {
   "cell_type": "markdown",
   "id": "4f22a146",
   "metadata": {},
   "source": [
    "# Unsupervised Clustering of Wound Border Features\n",
    "This notebook performs dimensionality reduction and clustering on the extracted wound border features to identify patterns and group similar wounds."
   ]
  },
  {
   "cell_type": "code",
   "execution_count": null,
   "id": "1f96e9b2",
   "metadata": {
    "vscode": {
     "languageId": "plaintext"
    }
   },
   "outputs": [],
   "source": [
    "## loading extracted feature vectors\n",
    "import "
   ]
  }
 ],
 "metadata": {
  "language_info": {
   "name": "python"
  }
 },
 "nbformat": 4,
 "nbformat_minor": 5
}
